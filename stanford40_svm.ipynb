{
 "cells": [
  {
   "cell_type": "code",
   "execution_count": 1,
   "metadata": {},
   "outputs": [
    {
     "name": "stderr",
     "output_type": "stream",
     "text": [
      "Using TensorFlow backend.\n"
     ]
    }
   ],
   "source": [
    "import pegasos\n",
    "import numpy as np\n",
    "import pickle\n",
    "import matplotlib.pyplot as plt\n",
    "from sklearn.metrics import precision_recall_curve\n",
    "from sklearn.metrics import average_precision_score\n",
    "import pdb\n",
    "import random\n",
    "from tqdm import tqdm\n",
    "from time import time\n",
    "from sklearn import linear_model\n",
    "\n",
    "\n",
    "# Keras imports\n",
    "import keras\n",
    "from keras.models import load_model, Sequential, Model\n",
    "from keras.layers import Dropout, Dense, Conv2D, Flatten, MaxPooling2D, Activation, Input, LeakyReLU, BatchNormalization\n",
    "from keras.callbacks import ModelCheckpoint\n",
    "\n",
    "\n",
    "def plot_pr(y_test, y_gt):\n",
    "    average_precision = average_precision_score(y_test, y_gt)\n",
    "    precision, recall, _ = precision_recall_curve(y_test, y_gt)\n",
    "\n",
    "    plt.step(recall, precision, color='b', alpha=0.2, where='post')\n",
    "    plt.fill_between(recall, precision, step='post', alpha=0.5, color='b')\n",
    "\n",
    "    plt.xlabel('Recall')\n",
    "    plt.ylabel('Precision')\n",
    "    plt.title('Precision-Recall curve: AUC={0:0.2f}'.format(\n",
    "              average_precision))\n",
    "    plt.show()\n",
    "    \n",
    "class SVM_Triplet:\n",
    "    def __init__(self, X1, X2, Y, base_classes, pos_class, new_class):\n",
    "        self.X1 = X1\n",
    "        self.X2 = X2\n",
    "        self.Y = Y\n",
    "        self.base_classes = base_classes\n",
    "        self.pos_class = pos_class\n",
    "        self.new_class = new_class\n",
    "\n",
    "def prepare_features(pos_class, neg_classes, feature_vectors, is_train=True, \n",
    "                     equal_features=False, train_split=0.9):\n",
    "    '''\n",
    "    Returns 4096-dim features for each image which would be used for SVM training\n",
    "    inputs : \n",
    "        is_train -> will return 90% of features for each class if is_train=True, else returns 10% features\n",
    "        equal_features -> if set to True, then len(neg_features) = len(pos_features)\n",
    "    \n",
    "    Returns:\n",
    "        pos_features -> features of images in the positive class\n",
    "        neg_features -> features of images in the negative classes\n",
    "    '''\n",
    "    \n",
    "    pos_partition = int(train_split*feature_vectors[pos_class].shape[0])\n",
    "    neg_features = []\n",
    "    if is_train:\n",
    "        pos_features = feature_vectors[pos_class][:pos_partition]    # n x 4096\n",
    "        for neg_class in neg_classes:\n",
    "            neg_partition = int(train_split*feature_vectors[neg_class].shape[0])\n",
    "            neg_features.extend(feature_vectors[neg_class][:neg_partition])\n",
    "            \n",
    "    else:\n",
    "        pos_features = feature_vectors[pos_class][pos_partition:]    # n x 4096\n",
    "        for neg_class in neg_classes:\n",
    "            neg_partition = int(train_split*feature_vectors[neg_class].shape[0])\n",
    "            neg_features.extend(feature_vectors[neg_class][neg_partition:])\n",
    "             \n",
    "    if equal_features:\n",
    "        neg_features = np.random.permutation(neg_features)[:pos_features.shape[0]]\n",
    "    \n",
    "    return pos_features, neg_features\n",
    "    \n",
    "def compute_accuracy(weight_vector, pos_features, neg_features):\n",
    "    classifier = pegasos.PegasosSVMClassifier()\n",
    "    classifier.fit(np.zeros((2, 1024)), np.asarray([1, 0]))\n",
    "    classifier.weight_vector.weights = weight_vector\n",
    "\n",
    "    # Concat data and pass to SVM\n",
    "    result = classifier.predict(np.vstack((pos_features, neg_features)))\n",
    "    ground_truth = np.concatenate((np.ones(len(pos_features)), np.zeros(len(neg_features))))\n",
    "    return np.average(np.equal(ground_truth, result)), result, ground_truth\n",
    "\n",
    "def get_svm_weights(x_train, y_train, sklearn_SGD=False):\n",
    "    if sklearn_SGD:\n",
    "        clf = linear_model.SGDClassifier()\n",
    "        clf.partial_fit(x_train, y_train, classes=np.unique(y_train))\n",
    "        weights = clf.coef_\n",
    "        return clf\n",
    "    else:\n",
    "        svm = pegasos.PegasosSVMClassifier()\n",
    "        svm.fit(x_train, y_train)\n",
    "        weight_vector = svm.weight_vector.weights\n",
    "        return weight_vector\n",
    "\n",
    "\n",
    "def get_x_y(pos_features, neg_features):\n",
    "    x = np.vstack((pos_features, neg_features))\n",
    "    y = np.hstack((np.ones( len(pos_features)),\n",
    "                   np.zeros(len(neg_features))))\n",
    "    return x, y\n",
    "\n",
    "\n",
    "'''\n",
    "We only need the negative features for the novel class. \n",
    "(It is negative with respect to the positive class)\n",
    "'''\n",
    "def online_svm_update(clf, neg_features):\n",
    "    clf.partial_fit(neg_features, np.zeros(len(neg_features)))\n",
    "    return clf\n",
    "    \n",
    "\n",
    "'''\n",
    "SVM for novel class. \n",
    "pos_class = pos_class\n",
    "neg_classes = base_classes - pos_class\n",
    "'''\n",
    "def compute_X1(pos_class, base_classes, feature_vectors, is_train=True, sklearn_SGD=False):\n",
    "    neg_classes = np.delete(base_classes, np.argwhere(base_classes==pos_class))\n",
    "    pos_features, neg_features = prepare_features(pos_class, neg_classes, feature_vectors, is_train=is_train)\n",
    "    x_train, y_train = get_x_y(pos_features, neg_features)\n",
    "    return get_svm_weights(x_train, y_train, sklearn_SGD=sklearn_SGD)\n",
    "    \n",
    "\n",
    "\n",
    "'''\n",
    "SVM for novel class. \n",
    "pos_class = novel_class\n",
    "neg_classes = base_classes\n",
    "'''\n",
    "def compute_X2(novel_class, base_classes, feature_vectors, is_train=True, sklearn_SGD=False):\n",
    "    pos_features, neg_features = prepare_features(novel_class, base_classes, feature_vectors, is_train=is_train)\n",
    "    x_train, y_train = get_x_y(pos_features, neg_features)\n",
    "    return get_svm_weights(x_train, y_train, sklearn_SGD=sklearn_SGD)\n",
    "    \n",
    "'''\n",
    "SVM for pos class under the influence of the neg class. \n",
    "pos_class = pos_class\n",
    "neg_classes = base_classes - pos_class + novel_class\n",
    "'''\n",
    "def compute_Y(pos_class, novel_class, base_classes, feature_vectors, is_train=True, sklearn_SGD=False):\n",
    "    neg_classes = np.delete(base_classes, np.argwhere(base_classes==pos_class))\n",
    "    neg_classes = np.append(neg_classes, novel_class)\n",
    "    pos_features, neg_features = prepare_features(pos_class, neg_classes, feature_vectors, is_train=is_train)\n",
    "    x_train, y_train = get_x_y(pos_features, neg_features)\n",
    "    return get_svm_weights(x_train, y_train, sklearn_SGD=sklearn_SGD)"
   ]
  },
  {
   "cell_type": "code",
   "execution_count": 2,
   "metadata": {},
   "outputs": [
    {
     "name": "stdout",
     "output_type": "stream",
     "text": [
      "{'base': array(['phoning', 'rowing_a_boat', 'cutting_vegetables', 'waving_hands',\n",
      "       'riding_a_bike', 'writing_on_a_board', 'running', 'throwing_frisby',\n",
      "       'taking_photos', 'jumping', 'looking_through_a_microscope',\n",
      "       'playing_guitar', 'looking_through_a_telescope', 'fixing_a_car',\n",
      "       'gardening'],\n",
      "      dtype='<U28'), 'novel': array(['holding_an_umbrella', 'walking_the_dog', 'playing_violin',\n",
      "       'pushing_a_cart', 'riding_a_horse', 'smoking', 'fixing_a_bike',\n",
      "       'writing_on_a_book', 'texting_message', 'feeding_a_horse'],\n",
      "      dtype='<U28'), 'test': array(['cleaning_the_floor', 'brushing_teeth', 'cutting_trees', 'cooking',\n",
      "       'climbing', 'reading', 'drinking', 'washing_dishes',\n",
      "       'shooting_an_arrow', 'watching_TV', 'using_a_computer',\n",
      "       'blowing_bubbles', 'pouring_liquid', 'fishing', 'applauding'],\n",
      "      dtype='<U28')}\n"
     ]
    }
   ],
   "source": [
    "FEATURE_FILE = '/media/red/capstone/data/stanford_40/vgg16_features.pkl'\n",
    "TRIPLETS_FILE = '/media/red/capstone/data/stanford_triplets_sklearn_500k.pkl'\n",
    "TRIPLETS_FILE_2 = '/media/red/capstone/data/stanford_triplets_sklearn_plus2.pkl'\n",
    "\n",
    "\n",
    "features, file_names = pickle.load(open(FEATURE_FILE, \"rb\"))\n",
    "\n",
    "seed = 1234\n",
    "random.seed(seed)\n",
    "np.random.seed(seed)\n",
    "\n",
    "# Splitting classes into train/val/test\n",
    "labels = np.array(list(features.keys()))\n",
    "perm = np.random.permutation(len(labels))\n",
    "labels = labels[perm]\n",
    "\n",
    "splits = {}\n",
    "splits['base']=labels[:15]\n",
    "splits['novel'] = labels[15:25]\n",
    "splits['test']=labels[25:]\n",
    "\n",
    "print(splits)"
   ]
  },
  {
   "cell_type": "markdown",
   "metadata": {},
   "source": [
    "## Online SVM Baseline (10 + 1)"
   ]
  },
  {
   "cell_type": "code",
   "execution_count": 3,
   "metadata": {
    "scrolled": false
   },
   "outputs": [
    {
     "name": "stderr",
     "output_type": "stream",
     "text": [
      "  0%|          | 0/1000 [00:00<?, ?it/s]/home/animesh/anaconda3/envs/capstone/lib/python3.6/site-packages/sklearn/linear_model/stochastic_gradient.py:84: FutureWarning: max_iter and tol parameters have been added in <class 'sklearn.linear_model.stochastic_gradient.SGDClassifier'> in 0.19. If both are left unset, they default to max_iter=5 and tol=None. If tol is not None, max_iter defaults to max_iter=1000. From 0.21, default max_iter will be 1000, and default tol will be 1e-3.\n",
      "  \"and default tol will be 1e-3.\" % type(self), FutureWarning)\n",
      "100%|██████████| 1000/1000 [01:44<00:00,  9.41it/s]\n"
     ]
    },
    {
     "data": {
      "image/png": "[encoded data removed]",
      "text/plain": [
       "<matplotlib.figure.Figure at 0x7ff1a9dd5f28>"
      ]
     },
     "metadata": {},
     "output_type": "display_data"
    },
    {
     "data": {
      "image/png": "[encoded data removed]",
      "text/plain": [
       "<matplotlib.figure.Figure at 0x7ff1a9e9bbe0>"
      ]
     },
     "metadata": {},
     "output_type": "display_data"
    },
    {
     "data": {
      "image/png": "[encoded data removed]",
      "text/plain": [
       "<matplotlib.figure.Figure at 0x7ff1a5b03198>"
      ]
     },
     "metadata": {},
     "output_type": "display_data"
    }
   ],
   "source": [
    "# For PR curves\n",
    "X1_preds=[]\n",
    "gts = []\n",
    "Y_preds = []\n",
    "Y_online_preds = []\n",
    "\n",
    "\n",
    "for i in tqdm(range(1000)):\n",
    "    \n",
    "    base_class_ind = np.random.permutation(len(splits['base']))[:10]\n",
    "    base_classes = splits['base'][base_class_ind]\n",
    "    pos_class = np.random.choice(base_classes)\n",
    "    novel_class = np.random.choice(splits['test'])\n",
    "    \n",
    "    # SVM weights of pos class\n",
    "    clf_X1 = compute_X1(pos_class, base_classes, features, is_train=True, sklearn_SGD=True)\n",
    "    X1 = clf_X1.coef_\n",
    "    \n",
    "    # SVM weights of novel class\n",
    "    clf_X2 = compute_X2(novel_class, base_classes, features, is_train=True, sklearn_SGD=True)\n",
    "    X2 = clf_X2.coef_\n",
    "    \n",
    "    # SVM weights of pos class under the influence of novel class\n",
    "    clf_Y = compute_Y(pos_class, novel_class, base_classes, features, is_train=True, sklearn_SGD=True)\n",
    "    Y = clf_Y.coef_\n",
    "\n",
    "    \n",
    "    neg_classes = np.delete(base_classes, np.argwhere(base_classes==pos_class))\n",
    "    neg_classes_extra = np.append(neg_classes, novel_class)    # 9 + 1 classes\n",
    "    pos_features_test, neg_features_test = prepare_features(pos_class, \n",
    "                                                            neg_classes_extra, \n",
    "                                                            features, \n",
    "                                                            is_train=False, \n",
    "                                                            equal_features=False)\n",
    "    gt = np.concatenate((np.ones(len(pos_features_test)), np.zeros(len(neg_features_test))))\n",
    "    \n",
    "    # Mean accuracies\n",
    "    to_predict = np.vstack((pos_features_test, neg_features_test))\n",
    "#     acc1 = clf_X1.score(to_predict, gt)\n",
    "#     acc2 = clf_Y.score(to_predict, gt)\n",
    "                           \n",
    "    # Need the predictions for PR curves\n",
    "    X1_pred = clf_X1.predict(to_predict)\n",
    "    Y_pred = clf_Y.predict(to_predict)\n",
    "                           \n",
    "    # Online SVM update\n",
    "    neg_partition = int(0.9*features[novel_class].shape[0])\n",
    "    neg_features = features[novel_class][:neg_partition]\n",
    "    clf_Y_online = online_svm_update(clf_X1, neg_features)\n",
    "    Y_online = clf_Y_online.coef_\n",
    "#     acc3 = clf_Y_online.score(to_predict, gt)  \n",
    "    Y_pred_online = clf_Y_online.predict(to_predict)\n",
    "    \n",
    "#     print('%.5f %.5f %.5f' % (acc1,acc2, acc3))                       \n",
    "\n",
    "    # PR curve stuff\n",
    "    X1_preds.extend(X1_pred.tolist())\n",
    "    Y_preds.extend(Y_pred.tolist())\n",
    "    Y_online_preds.extend(Y_pred_online.tolist())\n",
    "    gts.extend(gt.tolist())\n",
    "    \n",
    "plot_pr(X1_preds, gts)\n",
    "plot_pr(Y_preds, gts)\n",
    "plot_pr(Y_online_preds, gts)\n",
    "    "
   ]
  },
  {
   "cell_type": "markdown",
   "metadata": {},
   "source": [
    "## Online SVM (10 + 2)"
   ]
  },
  {
   "cell_type": "code",
   "execution_count": 4,
   "metadata": {},
   "outputs": [
    {
     "name": "stderr",
     "output_type": "stream",
     "text": [
      "  0%|          | 0/1000 [00:00<?, ?it/s]/home/animesh/anaconda3/envs/capstone/lib/python3.6/site-packages/sklearn/linear_model/stochastic_gradient.py:84: FutureWarning: max_iter and tol parameters have been added in <class 'sklearn.linear_model.stochastic_gradient.SGDClassifier'> in 0.19. If both are left unset, they default to max_iter=5 and tol=None. If tol is not None, max_iter defaults to max_iter=1000. From 0.21, default max_iter will be 1000, and default tol will be 1e-3.\n",
      "  \"and default tol will be 1e-3.\" % type(self), FutureWarning)\n",
      "100%|██████████| 1000/1000 [01:17<00:00, 12.59it/s]\n"
     ]
    },
    {
     "data": {
      "image/png": "[encoded data removed]",
      "text/plain": [
       "<matplotlib.figure.Figure at 0x7ff1a59cf828>"
      ]
     },
     "metadata": {},
     "output_type": "display_data"
    },
    {
     "data": {
      "image/png": "[encoded data removed]",
      "text/plain": [
       "<matplotlib.figure.Figure at 0x7ff1a9de8080>"
      ]
     },
     "metadata": {},
     "output_type": "display_data"
    },
    {
     "data": {
      "image/png": "[encoded data removed]",
      "text/plain": [
       "<matplotlib.figure.Figure at 0x7ff1a59e4748>"
      ]
     },
     "metadata": {},
     "output_type": "display_data"
    }
   ],
   "source": [
    "# For PR curves\n",
    "X1_preds=[]\n",
    "gts = []\n",
    "Y_preds = []\n",
    "Y_online_preds = []\n",
    "\n",
    "for i in tqdm(range(1000)):\n",
    "    \n",
    "    base_class_ind = np.random.permutation(len(splits['base']))[:10]\n",
    "    base_classes = splits['base'][base_class_ind]\n",
    "    pos_class = np.random.choice(base_classes)\n",
    "    novel_class_1 = np.random.choice(splits['test'])\n",
    "    novel_class_2 = np.random.choice(np.delete(splits['test'], np.argwhere(splits['test']==novel_class_1)))\n",
    "    \n",
    "    # SVM weights of pos class\n",
    "    clf_X1 = compute_X1(pos_class, base_classes, features, is_train=True, sklearn_SGD=True)\n",
    "    \n",
    "    # SVM weights of pos class under the influence of novel class\n",
    "    neg_classes = np.delete(base_classes, np.argwhere(base_classes==pos_class))\n",
    "    neg_classes = np.append(neg_classes, novel_class_1)\n",
    "    neg_classes = np.append(neg_classes, novel_class_2)\n",
    "    \n",
    "    pos_features_train, neg_features_train = prepare_features(pos_class, neg_classes, features, is_train=True)\n",
    "    x_train, y_train = get_x_y(pos_features_train, neg_features_train)\n",
    "    clf_Y = get_svm_weights(x_train, y_train, sklearn_SGD=True)\n",
    "    \n",
    "    \n",
    "    pos_features_test, neg_features_test = prepare_features(pos_class, \n",
    "                                                            neg_classes, \n",
    "                                                            features, \n",
    "                                                            is_train=False, \n",
    "                                                            equal_features=False)\n",
    "    gt = np.concatenate((np.ones(len(pos_features_test)), np.zeros(len(neg_features_test))))\n",
    "    \n",
    "    to_predict = np.vstack((pos_features_test, neg_features_test))\n",
    "    \n",
    "                           \n",
    "    # Need the predictions for PR curves\n",
    "    X1_pred = clf_X1.predict(to_predict)\n",
    "    Y_pred = clf_Y.predict(to_predict)\n",
    "                           \n",
    "    # Online SVM update\n",
    "    # First for novel class 1\n",
    "    neg_partition = int(0.9*features[novel_class_1].shape[0])\n",
    "    neg_features = features[novel_class_1][:neg_partition]\n",
    "    clf_Y_online = online_svm_update(clf_X1, neg_features)\n",
    "    \n",
    "    # Now for novel class 2\n",
    "    neg_partition = int(0.9*features[novel_class_2].shape[0])\n",
    "    neg_features = features[novel_class_2][:neg_partition]\n",
    "    clf_Y_online = online_svm_update(clf_Y_online, neg_features) \n",
    "    Y_pred_online = clf_Y_online.predict(to_predict)\n",
    "                        \n",
    "\n",
    "    # PR curve stuff\n",
    "    X1_preds.extend(X1_pred.tolist())\n",
    "    Y_preds.extend(Y_pred.tolist())\n",
    "    Y_online_preds.extend(Y_pred_online.tolist())\n",
    "    gts.extend(gt.tolist())\n",
    "    \n",
    "plot_pr(X1_preds, gts)\n",
    "plot_pr(Y_preds, gts)\n",
    "plot_pr(Y_online_preds, gts)"
   ]
  },
  {
   "cell_type": "markdown",
   "metadata": {},
   "source": [
    "### Create triplets for training"
   ]
  },
  {
   "cell_type": "code",
   "execution_count": 7,
   "metadata": {},
   "outputs": [
    {
     "name": "stderr",
     "output_type": "stream",
     "text": [
      "IOPub data rate exceeded.\n",
      "The notebook server will temporarily stop sending output\n",
      "to the client in order to avoid crashing it.\n",
      "To change this limit, set the config variable\n",
      "`--NotebookApp.iopub_data_rate_limit`.\n"
     ]
    }
   ],
   "source": [
    "temp = pickle.load(open(TRIPLETS_FILE_2, \"rb\"))\n",
    "print(temp)"
   ]
  },
  {
   "cell_type": "code",
   "execution_count": 8,
   "metadata": {},
   "outputs": [
    {
     "name": "stdout",
     "output_type": "stream",
     "text": [
      "100000\n"
     ]
    }
   ],
   "source": [
    "print(len(temp))"
   ]
  },
  {
   "cell_type": "code",
   "execution_count": 5,
   "metadata": {
    "collapsed": true
   },
   "outputs": [],
   "source": [
    "NUM_SIMULATIONS = 200\n",
    "triplets = []\n",
    "triplets_prev = pickle.load(open(TRIPLETS_FILE, \"rb\"))\n",
    "triplets_prev = triplets_prev[:100000]"
   ]
  },
  {
   "cell_type": "code",
   "execution_count": 6,
   "metadata": {
    "scrolled": false
   },
   "outputs": [
    {
     "name": "stderr",
     "output_type": "stream",
     "text": [
      "0it [00:00, ?it/s]/home/animesh/anaconda3/envs/capstone/lib/python3.6/site-packages/sklearn/linear_model/stochastic_gradient.py:84: FutureWarning: max_iter and tol parameters have been added in <class 'sklearn.linear_model.stochastic_gradient.SGDClassifier'> in 0.19. If both are left unset, they default to max_iter=5 and tol=None. If tol is not None, max_iter defaults to max_iter=1000. From 0.21, default max_iter will be 1000, and default tol will be 1e-3.\n",
      "  \"and default tol will be 1e-3.\" % type(self), FutureWarning)\n",
      "100000it [2:03:24, 13.75it/s]\n"
     ]
    }
   ],
   "source": [
    "for i, triplet in tqdm(enumerate(triplets_prev)):\n",
    "    \n",
    "    base_classes = triplet.base_classes\n",
    "    pos_class = triplet.pos_class\n",
    "    novel_class1 = triplet.new_class\n",
    "    novel_class2 = np.random.choice(np.delete(splits['novel'],np.argwhere(splits['novel']==novel_class1)))\n",
    "    base_classes = np.append(base_classes, novel_class1)\n",
    "    X1 = triplet.Y\n",
    "    X2 = compute_X2(novel_class2, base_classes, features, is_train=True, sklearn_SGD=True)\n",
    "    Y = compute_Y(pos_class, novel_class2, base_classes, features, is_train=True, sklearn_SGD=True)\n",
    "                                    \n",
    "    triplets.append(SVM_Triplet(X1, X2.coef_, Y.coef_, base_classes, pos_class, novel_class2))\n",
    "    \n",
    "    # Sanity check\n",
    "                                    \n",
    "#     neg_classes = np.delete(base_classes, np.argwhere(base_classes==pos_class))\n",
    "#     neg_classes_extra = np.append(neg_classes, new_class)\n",
    "#     pos_features_test, neg_features_test = prepare_features(pos_class, \n",
    "#                                                             neg_classes_extra, \n",
    "#                                                             features, \n",
    "#                                                             is_train=False, \n",
    "#                                                             equal_features=False)\n",
    "\n",
    "#     to_predict = np.vstack((pos_features_test, neg_features_test))\n",
    "#     gt = np.concatenate((np.ones(len(pos_features_test)), np.zeros(len(neg_features_test))))\n",
    "\n",
    "# #     acc1 = X1.score(to_predict, gt) \n",
    "#     acc2 = Y.score(to_predict, gt) \n",
    "\n",
    "#     if i % 10000 == 0:\n",
    "#         with open(TRIPLETS_FILE_2, 'wb') as f:\n",
    "#             pickle.dump(triplets, f)\n",
    "            \n",
    "            \n",
    "with open(TRIPLETS_FILE_2, 'wb') as f:\n",
    "    pickle.dump(triplets, f)\n"
   ]
  },
  {
   "cell_type": "markdown",
   "metadata": {},
   "source": [
    "## Create 11+1 triplets for ground truth"
   ]
  },
  {
   "cell_type": "code",
   "execution_count": null,
   "metadata": {
    "collapsed": true
   },
   "outputs": [],
   "source": [
    "NUM_SIMULATIONS = 100000\n",
    "triplets = []\n",
    "\n",
    "for i in tqdm(range(int(NUM_SIMULATIONS/100))):\n",
    "    base_class_ind = np.random.permutation(len(splits['base']))[:11]\n",
    "    base_classes = splits['base'][base_class_ind]\n",
    "    \n",
    "    X1s = {}\n",
    "    for pos_class in base_classes:\n",
    "        X1s[pos_class] = compute_X1(pos_class, base_classes, features, is_train=True, sklearn_SGD=True)\n",
    "    \n",
    "    X2s = {}\n",
    "    for novel_class in splits['novel']:\n",
    "        X2s[novel_class] = compute_X2(novel_class, base_classes, features, is_train=True, sklearn_SGD=True)\n",
    "\n",
    "    \n",
    "    # The following code generates 100 triplets - 10 pos classes x 10 novel classes for each pos class\n",
    "    for pos_class in base_classes:\n",
    "        X1 = X1s[pos_class]\n",
    "        for new_class in splits['novel']:\n",
    "            \n",
    "            X2 = X2s[novel_class]\n",
    "            Y = compute_Y(pos_class, novel_class, base_classes, features, is_train=True, sklearn_SGD=True)\n",
    "            \n",
    "            # Sanity check\n",
    "#             t1 = time()\n",
    "#             neg_classes = np.delete(base_classes, np.argwhere(base_classes==pos_class))\n",
    "#             neg_classes_extra = np.append(neg_classes, new_class)\n",
    "#             pos_features_test, neg_features_test = prepare_features(pos_class, \n",
    "#                                                                     neg_classes_extra, \n",
    "#                                                                     features, \n",
    "#                                                                     is_train=False, \n",
    "#                                                                     equal_features=False)\n",
    "            \n",
    "#             to_predict = np.vstack((pos_features_test, neg_features_test))\n",
    "#             gt = np.concatenate((np.ones(len(pos_features_test)), np.zeros(len(neg_features_test))))\n",
    "            \n",
    "#             acc1 = X1.score(to_predict, gt) \n",
    "#             acc2 = Y.score(to_predict, gt) \n",
    "            # print (time() - t1)\n",
    "            \n",
    "#             print(acc1, acc2)\n",
    "            \n",
    "            triplets.append(SVM_Triplet(X1.coef_, X2.coef_, Y.coef_, base_classes, pos_class, novel_class))\n",
    "        \n",
    "    if i % 100 == 0:\n",
    "        with open(TRIPLETS_FILE, 'wb') as f:\n",
    "            pickle.dump(triplets, f)\n"
   ]
  },
  {
   "cell_type": "markdown",
   "metadata": {},
   "source": [
    "## Training the regressor network"
   ]
  },
  {
   "cell_type": "code",
   "execution_count": null,
   "metadata": {
    "collapsed": true
   },
   "outputs": [],
   "source": [
    "# Prepare data for training\n",
    "triplets = pickle.load(open(TRIPLETS_FILE, \"rb\"))\n",
    "triplets = triplets[:200000]"
   ]
  },
  {
   "cell_type": "code",
   "execution_count": null,
   "metadata": {
    "collapsed": true
   },
   "outputs": [],
   "source": [
    "'''\n",
    "Prepare data for training\n",
    "'''\n",
    "normalize = False\n",
    "X_train, Y_train = [], []\n",
    "for triplet in tqdm(triplets):\n",
    "    \n",
    "    ### NORMALIZE X1, X2 and Y here!!!\n",
    "    if normalize:\n",
    "        X1 = triplet.X1 / np.linalg.norm(triplet.X1, axis=0, keepdims=True)\n",
    "        X2 = triplet.X2 / np.linalg.norm(triplet.X2, axis=0, keepdims=True)\n",
    "        Y  = triplet.Y  / np.linalg.norm(triplet.Y,  axis=0, keepdims=True)\n",
    "        X_train.append(np.hstack((X1, X2)))\n",
    "        Y_train.append(Y-X1)\n",
    "    \n",
    "    else:   \n",
    "        X_train.append(np.hstack((triplet.X1, triplet.X2)))\n",
    "        Y_train.append(triplet.Y-triplet.X1)\n",
    "del triplets    # To clear this 19GB out of memory"
   ]
  },
  {
   "cell_type": "code",
   "execution_count": null,
   "metadata": {
    "collapsed": true
   },
   "outputs": [],
   "source": [
    "(X_train[0].shape)"
   ]
  },
  {
   "cell_type": "code",
   "execution_count": null,
   "metadata": {
    "collapsed": true
   },
   "outputs": [],
   "source": [
    "'''\n",
    "Define the architecture\n",
    "'''\n",
    "FEATURE_SHAPE = 4096\n",
    "inp = Input(shape=(FEATURE_SHAPE * 2,))\n",
    "x = Dense(FEATURE_SHAPE * 2, name='dense_1', activation='relu')(inp)\n",
    "# x = Dropout(0.1)(x)\n",
    "# x = BatchNormalization()(x)\n",
    "# x = LeakyReLU(alpha=0.1, name='relu_1')(x)\n",
    "x = Dense(FEATURE_SHAPE * 2, name='dense_2', activation='relu')(x)\n",
    "# x = Dropout(0.1)(x)\n",
    "# x = BatchNormalization()(x)\n",
    "# x = LeakyReLU(alpha=0.1, name='lrelu_2')(x)\n",
    "x = Dense(FEATURE_SHAPE, name='dense_3', activation='relu')(x)\n",
    "# x = BatchNormalization()(x)\n",
    "# x = LeakyReLU(alpha=0.1, name='lrelu_3')(x)\n",
    "x = Dense(FEATURE_SHAPE, name='dense_4')(x)\n",
    "\n",
    "model = Model(inputs=inp, outputs=x)\n",
    "\n",
    "optimizer = keras.optimizers.RMSprop(lr=0.0001)\n",
    "\n",
    "model.compile(loss='cosine_proximity', optimizer=optimizer, metrics=['accuracy'])\n",
    "\n",
    "    \n",
    "SAVE_FILE =  'stanford_rms_cosine_200k__lr4_nobn_nonormalize_{epoch:02d}-{val_acc:.2f}.h5'   \n",
    "    \n",
    "checkpoint = ModelCheckpoint(SAVE_FILE, monitor='val_acc', verbose=1, save_best_only=True, mode='max')\n",
    "callbacks_list = [checkpoint]\n",
    "\n",
    "model.fit(np.array(X_train), \n",
    "          np.array(Y_train), \n",
    "          epochs=50, \n",
    "          batch_size=32, \n",
    "          shuffle=True, \n",
    "          verbose=1,\n",
    "          callbacks=callbacks_list,\n",
    "          validation_split=0.03)\n",
    "\n",
    "# model.save('mit_e100_rms_cosine_100k_nobn.h5')"
   ]
  },
  {
   "cell_type": "code",
   "execution_count": null,
   "metadata": {
    "collapsed": true,
    "scrolled": true
   },
   "outputs": [],
   "source": [
    "# Compare our model with the baseline\n",
    "model = load_model('mit_rms_cosine_100k__lr4_nobn_normalize_04-0.15.h5')\n",
    "acc1_all, acc2_all = [], []\n",
    "\n",
    "base_class_ind = np.random.permutation(len(splits['base']))[:10]\n",
    "base_classes = splits['base'][base_class_ind]\n",
    "  \n",
    "\n",
    "for pos_class in base_classes:\n",
    "    acc1, acc2 = [], []\n",
    "    X1 = compute_X1(pos_class, base_classes, features, is_train=True)\n",
    "    X1_norm = X1 / np.linalg.norm(X1, axis=0, keepdims=True)\n",
    "    neg_classes = np.delete(base_classes, np.argwhere(base_classes==pos_class))\n",
    "    \n",
    "    for new_class in splits['test']:\n",
    "        neg_classes_extra = np.append(neg_classes, new_class)    # 9 + 1 classes\n",
    "        pos_features_test, neg_features_test = prepare_features(pos_class, \n",
    "                                                                neg_classes_extra, \n",
    "                                                                features, \n",
    "                                                                is_train=False, \n",
    "                                                                equal_features=False)\n",
    "        acc1.append(compute_accuracy(X1, pos_features_test, neg_features_test))\n",
    "\n",
    "        # Test out our incremental hypothesis\n",
    "        X2 = compute_X2(new_class, base_classes, features, is_train=True)\n",
    "        X2_norm = X2 / np.linalg.norm(X2, axis=0, keepdims=True)\n",
    "        X = np.hstack((X1_norm, X2_norm))\n",
    "        X = np.reshape(X, (1, 8192))\n",
    "        Y_hat = model.predict(X)\n",
    "        Y = X1 + Y_hat.reshape((4096))\n",
    "        acc2.append(compute_accuracy(Y, pos_features_test, neg_features_test))\n",
    "        print('%.5f %.5f %.5f %s|%s' % (acc1[-1],acc2[-1], acc2[-1] - acc1[-1], pos_class, new_class)) \n",
    "\n",
    "    acc1_all.append(acc1)\n",
    "    acc2_all.append(acc2)\n",
    "    \n",
    "    \n",
    "acc1_all = np.array(acc1_all)\n",
    "acc2_all = np.array(acc2_all)\n",
    "acc1_mean = np.mean(acc1_all, axis=0)\n",
    "acc2_mean = np.mean(acc2_all, axis=0)\n"
   ]
  },
  {
   "cell_type": "code",
   "execution_count": null,
   "metadata": {
    "collapsed": true
   },
   "outputs": [],
   "source": [
    "# Plotting\n",
    "import matplotlib.pyplot as plt\n",
    "fig = plt.figure(figsize=(20,10))\n",
    "ax = fig.add_subplot(111)\n",
    "N = len(splits['test'])         # Number of classes\n",
    "ind = np.arange(N)                # the x locations for the groups\n",
    "width = 0.35                      # the width of the bars\n",
    "\n",
    "## the bars\n",
    "rects1 = ax.bar(ind, acc1_mean, width,color='orange')\n",
    "rects2 = ax.bar(ind+width, acc2_mean, width, color='green')\n",
    "\n",
    "# axes and labels\n",
    "ax.set_xlim(-width,len(ind)+width)\n",
    "ax.set_ylim(0,1)\n",
    "ax.set_ylabel('Accuracy')\n",
    "ax.set_title('Comparision when adding a new class (10 + 1)')\n",
    "xTickMarks = ['Class ' + str(i) for i in range(0,21)]\n",
    "ax.set_xticks(ind+width)\n",
    "xtickNames = ax.set_xticklabels(xTickMarks)\n",
    "plt.setp(xtickNames, rotation=45, fontsize=12)\n",
    "\n",
    "## add a legend\n",
    "ax.legend( (rects1[0], rects2[0]), ('No update', 'SVM weights updated') )\n",
    "\n",
    "plt.show()"
   ]
  },
  {
   "cell_type": "code",
   "execution_count": null,
   "metadata": {
    "collapsed": true
   },
   "outputs": [],
   "source": [
    "acc1, acc2 = [], []\n",
    "\n",
    "for i in range(200):\n",
    "    base_class_ind = np.random.permutation(len(splits['base']))[:10]\n",
    "    base_classes = splits['base'][base_class_ind]\n",
    "    pos_class = np.random.choice(base_classes)\n",
    "    \n",
    "    \n",
    "    X1 = compute_X1(pos_class, base_classes, features, is_train=True)\n",
    "    neg_classes = np.delete(base_classes, np.argwhere(base_classes==pos_class))\n",
    "\n",
    "\n",
    "    new_class = np.random.choice(splits['test'])\n",
    "    neg_classes_extra = np.append(neg_classes, new_class)    # 9 + 1 classes\n",
    "    pos_features_test, neg_features_test = prepare_features(pos_class, \n",
    "                                                            neg_classes_extra, \n",
    "                                                            features, \n",
    "                                                            is_train=False, \n",
    "                                                            equal_features=False)\n",
    "    \n",
    "\n",
    "    # Test out our incremental hypothesis\n",
    "    X2 = compute_X2(new_class, base_classes, features, is_train=True)\n",
    "\n",
    "    X1_norm = X1 / np.linalg.norm(X1, axis=0, keepdims=True)\n",
    "    X2_norm = X2 / np.linalg.norm(X2, axis=0, keepdims=True)\n",
    "\n",
    "    X = np.hstack((X1_norm, X2_norm))\n",
    "    X = np.reshape(X, (1, 8192))\n",
    "    Y_hat = model.predict(X)\n",
    "    Y = X1 + Y_hat.reshape((4096))\n",
    "    acc1 = compute_accuracy(X1, pos_features_test, neg_features_test)\n",
    "    acc2 = compute_accuracy(Y, pos_features_test, neg_features_test)\n",
    "    print('%.5f %.5f %0.3f %s|%s' % (acc1,acc2, acc2-acc1, pos_class, new_class)) "
   ]
  },
  {
   "cell_type": "code",
   "execution_count": null,
   "metadata": {
    "collapsed": true
   },
   "outputs": [],
   "source": [
    "print(np.mean(acc1_mean))\n",
    "print(np.mean(acc2_mean))"
   ]
  },
  {
   "cell_type": "code",
   "execution_count": null,
   "metadata": {
    "collapsed": true
   },
   "outputs": [],
   "source": []
  }
 ],
 "metadata": {
  "kernelspec": {
   "display_name": "Python 3",
   "language": "python",
   "name": "python3"
  },
  "language_info": {
   "codemirror_mode": {
    "name": "ipython",
    "version": 3
   },
   "file_extension": ".py",
   "mimetype": "text/x-python",
   "name": "python",
   "nbconvert_exporter": "python",
   "pygments_lexer": "ipython3",
   "version": "3.6.2"
  }
 },
 "nbformat": 4,
 "nbformat_minor": 2
}
