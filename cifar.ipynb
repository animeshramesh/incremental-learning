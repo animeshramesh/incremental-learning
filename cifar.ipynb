{
 "cells": [
  {
   "cell_type": "markdown",
   "metadata": {},
   "source": [
    "## Todo:\n",
    "- Experiment with normalization while creating triplets\n",
    "- Do you need dropout in the regressor network?\n",
    "- Simultaneous feature learning?\n",
    "- See when are results bad/equal/better? See which classes they correspond to.. "
   ]
  },
  {
   "cell_type": "code",
   "execution_count": 1,
   "metadata": {
    "collapsed": false
   },
   "outputs": [
    {
     "name": "stderr",
     "output_type": "stream",
     "text": [
      "Using TensorFlow backend.\n"
     ]
    }
   ],
   "source": [
    "%matplotlib inline\n",
    "import cPickle\n",
    "import matplotlib.pyplot as plt\n",
    "import matplotlib\n",
    "import numpy as np\n",
    "from collections import defaultdict\n",
    "import keras\n",
    "from keras.models import Sequential\n",
    "from keras.layers.core import Dense, Activation, Flatten, Dropout\n",
    "from keras.layers.convolutional import Conv2D\n",
    "from keras.models import load_model\n",
    "from keras.layers.pooling import MaxPooling2D\n",
    "from keras import backend as K\n",
    "import random\n",
    "import pegasos\n",
    "import time\n",
    "from keras.layers import Input, BatchNormalization\n",
    "from keras.models import Model\n",
    "from keras.layers.advanced_activations import LeakyReLU\n",
    "\n",
    "class SVM_Triplet:\n",
    "    def __init__(self, X1, X2, Y, base_classes, pos_class, new_class):\n",
    "        self.X1 = X1\n",
    "        self.X2 = X2\n",
    "        self.Y = Y\n",
    "        self.base_classes = base_classes\n",
    "        self.pos_class = pos_class\n",
    "        self.new_class = new_class\n",
    "        \n",
    "def unpickle(file):\n",
    "    with open(file, 'rb') as fo:\n",
    "        dict = cPickle.load(fo)\n",
    "    return dict\n",
    "\n",
    "# x = unpickle('/Users/admin/Downloads/cifar-100-python/train')"
   ]
  },
  {
   "cell_type": "code",
   "execution_count": null,
   "metadata": {
    "collapsed": false
   },
   "outputs": [],
   "source": [
    "'''\n",
    "Returns a (32, 32, 3) image for a given array of 3072 pixels\n",
    "'''\n",
    "def reshape_img(pixels):\n",
    "    r_channel = pixels[0:1024].reshape((32,32))\n",
    "    g_channel = pixels[1024:2048].reshape((32,32))\n",
    "    b_channel = pixels[1024:2048].reshape((32,32))\n",
    "    return np.dstack((r_channel, g_channel, b_channel)) \n",
    "\n",
    "\n",
    "'''\n",
    "Returns a custom dataset specific for incremental learning. \n",
    "The CIFAR dataset is broken down into 4 sub-datasets which would be used for incremental learning.\n",
    "    - training : 40 classes which would be used for training our img classification network.\n",
    "    - base : 20 classes which are considered as 'base'.\n",
    "    - simulation : 20 classes. The new class would be picked from this category\n",
    "    - test : 20 classes which would be used for testing our transformation network.\n",
    "    \n",
    "All the sub-datasets are mutually exclusive. \n",
    "'''\n",
    "def create_custom_dataset(cifar):\n",
    "    dataset = {'training': defaultdict(list), 'base':defaultdict(list) , 'simulation':defaultdict(list), 'test':defaultdict(list)}\n",
    "    for ind in range(len(cifar['data'])):\n",
    "        j = cifar['fine_labels'][ind]\n",
    "        if j < 40:\n",
    "            dataset['training'][j].append(reshape_img(cifar['data'][ind]))\n",
    "        elif j >= 40 and j < 60:\n",
    "            dataset['base'][j].append(reshape_img(cifar['data'][ind]))\n",
    "        elif j >= 60 and j < 80:\n",
    "            dataset['simulation'][j].append(reshape_img(cifar['data'][ind]))\n",
    "        else:\n",
    "            dataset['test'][j].append(reshape_img(cifar['data'][ind]))\n",
    "    return dataset"
   ]
  },
  {
   "cell_type": "code",
   "execution_count": null,
   "metadata": {
    "collapsed": false,
    "scrolled": false
   },
   "outputs": [],
   "source": [
    "# custom_dataset = create_custom_dataset(x)\n",
    "custom_dataset = unpickle('custom_dataset')"
   ]
  },
  {
   "cell_type": "markdown",
   "metadata": {},
   "source": [
    "## Training our classifier network\n",
    "\n",
    "We will now use the 40 classes labeled as 'training' from our custom dataset to train the classifier network. We will employ a simple network since the input images are only of size (32, 32, 3). \n",
    "\n",
    "- Conv (3x3x64) -> MaxPool -> ReLU\n",
    "- Conv (3x3x128) -> MaxPool -> ReLU\n",
    "- Conv (3x3x256) -> MaxPool -> ReLU -> dropout(0.9)\n",
    "- FC(256)\n",
    "- softmax(40)"
   ]
  },
  {
   "cell_type": "code",
   "execution_count": null,
   "metadata": {
    "collapsed": true
   },
   "outputs": [],
   "source": [
    "model = Sequential()\n",
    "\n",
    "model.add(Conv2D(32, 3, activation='relu', input_shape=(32,32,3)))\n",
    "model.add(Conv2D(32, 3, activation='relu', name='conv1_2'))\n",
    "model.add(MaxPooling2D((2, 2), strides=(2, 2)))\n",
    "\n",
    "model.add(Conv2D(64, 3, activation='relu', name='conv2_1'))\n",
    "model.add(Conv2D(64, 3, activation='relu', name='conv2_2'))\n",
    "model.add(MaxPooling2D((2, 2), strides=(2, 2)))\n",
    "\n",
    "model.add(Flatten(name='flatten'))\n",
    "model.add(Dense(1024, activation='relu', name='dense_1'))\n",
    "model.add(Dropout(0.1))\n",
    "model.add(Dense(1024, activation='relu', name='dense_2'))\n",
    "model.add(Dropout(0.1))\n",
    "model.add(Dense(40, name='dense_3'))\n",
    "model.add(Activation('softmax', name='softmax'))\n",
    "\n",
    "optimizer = keras.optimizers.SGD(lr=0.001)\n",
    "\n",
    "model.compile(loss='sparse_categorical_crossentropy', optimizer=optimizer, metrics=['accuracy'])\n",
    "\n",
    "# Prepare data for training\n",
    "X, Y = [], []\n",
    "for label in custom_dataset['training'].keys():\n",
    "    for item in custom_dataset['training'][label]:\n",
    "        X.append(item)\n",
    "        Y.append(label)\n",
    "\n",
    "model.fit(np.array(X), Y, epochs=100, batch_size=32, shuffle=True)\n",
    "model.save('classifier_40_100.h5')"
   ]
  },
  {
   "cell_type": "code",
   "execution_count": null,
   "metadata": {
    "collapsed": false
   },
   "outputs": [],
   "source": [
    "# I had some issues with using the dropout layer during prediction. Some keras bug. \n",
    "# So had to rewrite the model without dropout\n",
    "pmodel = Sequential()\n",
    "\n",
    "pmodel.add(Conv2D(32, 3, activation='relu', input_shape=(32,32,3)))\n",
    "pmodel.add(Conv2D(32, 3, activation='relu', name='conv1_2'))\n",
    "pmodel.add(MaxPooling2D((2, 2), strides=(2, 2)))\n",
    "\n",
    "pmodel.add(Conv2D(64, 3, activation='relu', name='conv2_1'))\n",
    "pmodel.add(Conv2D(64, 3, activation='relu', name='conv2_2'))\n",
    "pmodel.add(MaxPooling2D((2, 2), strides=(2, 2)))\n",
    "\n",
    "pmodel.add(Flatten(name='flatten'))\n",
    "pmodel.add(Dense(1024, activation='relu', name='dense_1'))\n",
    "pmodel.add(Dense(1024, activation='relu', name='dense_2'))\n",
    "pmodel.add(Dense(40, name='dense_3'))\n",
    "pmodel.add(Activation('softmax', name='softmax'))\n",
    "\n",
    "pmodel.load_weights('classifier_40_100.h5')\n",
    "get_feature_vector = K.function([pmodel.layers[0].input],\n",
    "                                  [pmodel.layers[8].output])"
   ]
  },
  {
   "cell_type": "code",
   "execution_count": null,
   "metadata": {
    "collapsed": false
   },
   "outputs": [],
   "source": [
    "feature_vectors = {'base': {} , 'simulation': {}, 'test': {}}\n",
    "\n",
    "for dataset in custom_dataset.keys():\n",
    "    if dataset != 'training':\n",
    "        print dataset + ' .....'\n",
    "        for label in custom_dataset[dataset].keys():\n",
    "            inp = np.array(custom_dataset[dataset][label])\n",
    "            feature_vectors[dataset][label] = get_feature_vector([inp])[0]\n",
    "cPickle.dump(feature_vectors, open('feature_vectors', \"wb\" ))"
   ]
  },
  {
   "cell_type": "code",
   "execution_count": 17,
   "metadata": {
    "collapsed": false
   },
   "outputs": [],
   "source": [
    "def prepare_features(pos_class, neg_classes, feature_vectors, is_train=True, equal_features=False):\n",
    "    \n",
    "    # First 400 images will be used for training. Other 100 for testing\n",
    "    TRAIN_SPLIT = 400\n",
    "    \n",
    "    pos_features = feature_vectors[pos_class]    # 500 x 1024 \n",
    "    neg_features = []\n",
    "    for neg_class in neg_classes:\n",
    "        neg_features.extend(feature_vectors[neg_class])\n",
    "    \n",
    "    if equal_features:\n",
    "        neg_features = np.random.permutation(neg_features)[:pos_features.shape[0]]\n",
    "    \n",
    "    if is_train:\n",
    "        return pos_features[:TRAIN_SPLIT], np.array(neg_features[:TRAIN_SPLIT])\n",
    "    else:\n",
    "        return pos_features[TRAIN_SPLIT:], np.array(neg_features[TRAIN_SPLIT:])\n",
    "\n",
    "# Modify feature_vectors structure\n",
    "feature_vectors = unpickle('feature_vectors')\n",
    "x = {}\n",
    "for d in feature_vectors.keys():\n",
    "    for label in feature_vectors[d].keys():\n",
    "        x[label] = feature_vectors[d][label]\n",
    "feature_vectors = x  "
   ]
  },
  {
   "cell_type": "code",
   "execution_count": 3,
   "metadata": {
    "collapsed": false
   },
   "outputs": [
    {
     "name": "stdout",
     "output_type": "stream",
     "text": [
      "100000\n"
     ]
    }
   ],
   "source": [
    "# Simulate triplet generation\n",
    "triplets = unpickle('triplets.pkl')\n",
    "# triplets = []\n",
    "triplet_count = len(triplets)\n",
    "print triplet_count\n",
    "\n",
    "def compute_accuracy(weight_vector, pos_features, neg_features):\n",
    "    classifier = pegasos.PegasosSVMClassifier()\n",
    "    classifier.fit(np.zeros((2, 1024)), np.asarray([1, 0]))\n",
    "    classifier.weight_vector.weights = weight_vector\n",
    "\n",
    "    # Concat data and pass to SVM\n",
    "    result = classifier.predict(np.vstack((pos_features, neg_features)))\n",
    "    ground_truth = np.concatenate((np.ones(len(pos_features)), np.zeros(len(neg_features))))\n",
    "    return np.average(np.equal(ground_truth, result))\n",
    "\n",
    "def get_svm_weights(x_train, y_train):\n",
    "    svm = pegasos.PegasosSVMClassifier()\n",
    "    svm.fit(x_train, y_train)\n",
    "    weight_vector = svm.weight_vector.weights\n",
    "    return weight_vector\n",
    "\n",
    "\n",
    "def get_x_y(pos_features, neg_features):\n",
    "    x = np.vstack((pos_features, neg_features))\n",
    "    y = np.hstack((np.ones( len(pos_features)),\n",
    "                   np.zeros(len(neg_features))))\n",
    "    return x, y\n",
    "\n",
    "def compute_X1(pos_class, base_classes, feature_vectors):\n",
    "    neg_classes = np.delete(base_classes, np.argwhere(base_classes==pos_class))\n",
    "    pos_features, neg_features = prepare_features(pos_class, neg_classes, feature_vectors)\n",
    "    x_train, y_train = get_x_y(pos_features, neg_features)\n",
    "    weight_vector = get_svm_weights(x_train, y_train)\n",
    "    return weight_vector\n",
    "\n",
    "def compute_X2(pos_class, base_classes, feature_vectors):\n",
    "    pos_features, neg_features = prepare_features(pos_class, base_classes, feature_vectors)\n",
    "    x_train, y_train = get_x_y(pos_features, neg_features)\n",
    "    weight_vector = get_svm_weights(x_train, y_train)\n",
    "    return weight_vector\n",
    "    \n",
    "def compute_Y(pos_class, new_class, base_classes, feature_vectors):\n",
    "    neg_classes = np.delete(base_classes, np.argwhere(base_classes==pos_class))\n",
    "    neg_classes = np.append(neg_classes, new_class)\n",
    "    pos_features, neg_features = prepare_features(pos_class, neg_classes, feature_vectors)\n",
    "    x_train, y_train = get_x_y(pos_features, neg_features)\n",
    "    weight_vector = get_svm_weights(x_train, y_train)\n",
    "    return weight_vector\n",
    " \n",
    "# # Generation of SVM triplets\n",
    "while triplet_count < 100000:\n",
    "    t_start = time.time()\n",
    "    base_classes = np.random.permutation(range(40,60))[:10]\n",
    "    \n",
    "    X1s = {}\n",
    "    for pos_class in base_classes:\n",
    "        X1s[pos_class] = compute_X1(pos_class, base_classes, feature_vectors)\n",
    "    \n",
    "    X2s = {}\n",
    "    for new_class in range(60,80):\n",
    "        X2s[new_class] = compute_X2(new_class, base_classes, feature_vectors)\n",
    "        \n",
    "#     print 'Precomputation of X1 and X2 .. ', time.time() - t_start\n",
    "    \n",
    "    # The following code generates 200 triplets - 20C10 x 20C1\n",
    "    for pos_class in base_classes:\n",
    "        X1 = X1s[pos_class]\n",
    "        for new_class in range(60, 80):\n",
    "            X2 = X2s[new_class]\n",
    "            Y = compute_Y(pos_class, new_class, base_classes, feature_vectors)\n",
    "            triplets.append(SVM_Triplet(X1, X2, Y, base_classes, pos_class, new_class))\n",
    "            triplet_count += 1\n",
    "    \n",
    "    # Snapshot after every 200 triplets\n",
    "    with open('triplets.pkl', 'wb') as f:\n",
    "        print 'Dumping start...'\n",
    "        cPickle.dump(triplets, f)\n",
    "        \n",
    "    print triplet_count, time.time() - t_start\n",
    "    "
   ]
  },
  {
   "cell_type": "code",
   "execution_count": 21,
   "metadata": {
    "collapsed": false
   },
   "outputs": [
    {
     "data": {
      "image/png": "[encoded data removed]",
      "text/plain": [
       "<matplotlib.figure.Figure at 0x114ffffd0>"
      ]
     },
     "metadata": {},
     "output_type": "display_data"
    }
   ],
   "source": [
    "# Create a baseline\n",
    "# SVM weights are not updated and new classes are added one by one\n",
    "base_classes = np.random.permutation(range(40,60))[:10]\n",
    "pos_class = random.choice(base_classes)\n",
    "neg_classes = np.delete(base_classes, np.argwhere(base_classes==pos_class))\n",
    "X1 = compute_X1(pos_class, base_classes, feature_vectors)\n",
    "\n",
    "pos_features_test, neg_features_test = prepare_features(pos_class, neg_classes, feature_vectors, is_train=False, equal_features=False)\n",
    "acc = [compute_accuracy(X1, pos_features_test, neg_features_test)]\n",
    "\n",
    "# neg_classes = []\n",
    "for new_class in range(60, 100):\n",
    "    neg_classes = np.append(neg_classes, new_class)\n",
    "    pos_features_test, neg_features_test = prepare_features(pos_class, neg_classes, feature_vectors, is_train=False, equal_features=False)\n",
    "    acc.append(compute_accuracy(X1, pos_features_test, neg_features_test))\n",
    "    \n",
    "plt.plot(range(0, 41), acc)\n",
    "plt.ylabel('Base class accuracy (Randomly chosen)')\n",
    "plt.xlabel('New classes added')\n",
    "plt.show()"
   ]
  },
  {
   "cell_type": "markdown",
   "metadata": {},
   "source": [
    "## Training the regressor network"
   ]
  },
  {
   "cell_type": "code",
   "execution_count": 9,
   "metadata": {
    "collapsed": true
   },
   "outputs": [],
   "source": [
    "triplets = unpickle('triplets.pkl')"
   ]
  },
  {
   "cell_type": "code",
   "execution_count": 12,
   "metadata": {
    "collapsed": false,
    "scrolled": true
   },
   "outputs": [
    {
     "name": "stdout",
     "output_type": "stream",
     "text": [
      "Epoch 1/50\n",
      "100000/100000 [==============================] - 680s - loss: -1.2678e-04 - acc: 0.0369   \n",
      "Epoch 2/50\n",
      "100000/100000 [==============================] - 790s - loss: -1.4937e-04 - acc: 0.0497   \n",
      "Epoch 3/50\n",
      "100000/100000 [==============================] - 1017s - loss: -1.5720e-04 - acc: 0.0552  \n",
      "Epoch 4/50\n",
      "100000/100000 [==============================] - 684s - loss: -1.6307e-04 - acc: 0.0570   \n",
      "Epoch 5/50\n",
      "100000/100000 [==============================] - 844s - loss: -1.6764e-04 - acc: 0.0613   \n",
      "Epoch 6/50\n",
      "100000/100000 [==============================] - 707s - loss: -1.7119e-04 - acc: 0.0643   \n",
      "Epoch 7/50\n",
      "100000/100000 [==============================] - 633s - loss: -1.7519e-04 - acc: 0.0689   \n",
      "Epoch 8/50\n",
      "100000/100000 [==============================] - 776s - loss: -1.7910e-04 - acc: 0.0738   \n",
      "Epoch 9/50\n",
      "100000/100000 [==============================] - 1141s - loss: -1.8050e-04 - acc: 0.0746  \n",
      "Epoch 10/50\n",
      "100000/100000 [==============================] - 1094s - loss: -1.8398e-04 - acc: 0.0775  \n",
      "Epoch 11/50\n",
      "100000/100000 [==============================] - 628s - loss: -1.8594e-04 - acc: 0.0806   \n",
      "Epoch 12/50\n",
      "100000/100000 [==============================] - 599s - loss: -1.8870e-04 - acc: 0.0844   \n",
      "Epoch 13/50\n",
      "100000/100000 [==============================] - 595s - loss: -1.9000e-04 - acc: 0.0866   \n",
      "Epoch 14/50\n",
      "100000/100000 [==============================] - 595s - loss: -1.9238e-04 - acc: 0.0866   \n",
      "Epoch 15/50\n",
      "100000/100000 [==============================] - 597s - loss: -1.9307e-04 - acc: 0.0876   \n",
      "Epoch 16/50\n",
      "100000/100000 [==============================] - 594s - loss: -1.9527e-04 - acc: 0.0902   \n",
      "Epoch 17/50\n",
      "100000/100000 [==============================] - 596s - loss: -1.9696e-04 - acc: 0.0941   \n",
      "Epoch 18/50\n",
      "100000/100000 [==============================] - 594s - loss: -1.9796e-04 - acc: 0.0953   \n",
      "Epoch 19/50\n",
      "100000/100000 [==============================] - 594s - loss: -1.9941e-04 - acc: 0.0949   \n",
      "Epoch 20/50\n",
      "100000/100000 [==============================] - 594s - loss: -2.0040e-04 - acc: 0.0979   \n",
      "Epoch 21/50\n",
      "100000/100000 [==============================] - 598s - loss: -2.0162e-04 - acc: 0.0988   \n",
      "Epoch 22/50\n",
      "100000/100000 [==============================] - 596s - loss: -2.0219e-04 - acc: 0.0990   \n",
      "Epoch 23/50\n",
      "100000/100000 [==============================] - 596s - loss: -2.0383e-04 - acc: 0.1001   \n",
      "Epoch 24/50\n",
      "100000/100000 [==============================] - 596s - loss: -2.0521e-04 - acc: 0.1019   \n",
      "Epoch 25/50\n",
      "100000/100000 [==============================] - 597s - loss: -2.0490e-04 - acc: 0.1040   \n",
      "Epoch 26/50\n",
      "100000/100000 [==============================] - 598s - loss: -2.0565e-04 - acc: 0.1040   \n",
      "Epoch 27/50\n",
      "100000/100000 [==============================] - 599s - loss: -2.0775e-04 - acc: 0.1042   \n",
      "Epoch 28/50\n",
      "100000/100000 [==============================] - 598s - loss: -2.0874e-04 - acc: 0.1042   \n",
      "Epoch 29/50\n",
      "100000/100000 [==============================] - 597s - loss: -2.0874e-04 - acc: 0.1044   \n",
      "Epoch 30/50\n",
      "100000/100000 [==============================] - 598s - loss: -2.0971e-04 - acc: 0.1072   \n",
      "Epoch 31/50\n",
      "100000/100000 [==============================] - 598s - loss: -2.1024e-04 - acc: 0.1069   \n",
      "Epoch 32/50\n",
      "100000/100000 [==============================] - 598s - loss: -2.1050e-04 - acc: 0.1065   \n",
      "Epoch 33/50\n",
      "100000/100000 [==============================] - 600s - loss: -2.1143e-04 - acc: 0.1088   \n",
      "Epoch 34/50\n",
      "100000/100000 [==============================] - 599s - loss: -2.1151e-04 - acc: 0.1093   \n",
      "Epoch 35/50\n",
      "100000/100000 [==============================] - 598s - loss: -2.1150e-04 - acc: 0.1092   \n",
      "Epoch 36/50\n",
      "100000/100000 [==============================] - 601s - loss: -2.1236e-04 - acc: 0.1094   \n",
      "Epoch 37/50\n",
      "100000/100000 [==============================] - 599s - loss: -2.1322e-04 - acc: 0.1099   \n",
      "Epoch 38/50\n",
      "100000/100000 [==============================] - 599s - loss: -2.1436e-04 - acc: 0.1115   \n",
      "Epoch 39/50\n",
      "100000/100000 [==============================] - 599s - loss: -2.1381e-04 - acc: 0.1105   \n",
      "Epoch 40/50\n",
      "100000/100000 [==============================] - 603s - loss: -2.1387e-04 - acc: 0.1111   \n",
      "Epoch 41/50\n",
      "100000/100000 [==============================] - 599s - loss: -2.1521e-04 - acc: 0.1128   \n",
      "Epoch 42/50\n",
      "100000/100000 [==============================] - 601s - loss: -2.1585e-04 - acc: 0.1108   \n",
      "Epoch 43/50\n",
      "100000/100000 [==============================] - 600s - loss: -2.1604e-04 - acc: 0.1136   \n",
      "Epoch 44/50\n",
      "100000/100000 [==============================] - 599s - loss: -2.1653e-04 - acc: 0.1138   \n",
      "Epoch 45/50\n",
      "100000/100000 [==============================] - 600s - loss: -2.1703e-04 - acc: 0.1142   \n",
      "Epoch 46/50\n",
      "100000/100000 [==============================] - 599s - loss: -2.1685e-04 - acc: 0.1143   \n",
      "Epoch 47/50\n",
      "100000/100000 [==============================] - 598s - loss: -2.1862e-04 - acc: 0.1153   \n",
      "Epoch 48/50\n",
      "100000/100000 [==============================] - 600s - loss: -2.1931e-04 - acc: 0.1165   \n",
      "Epoch 49/50\n",
      "100000/100000 [==============================] - 599s - loss: -2.1871e-04 - acc: 0.1162   \n",
      "Epoch 50/50\n",
      "100000/100000 [==============================] - 599s - loss: -2.1907e-04 - acc: 0.1166   \n"
     ]
    }
   ],
   "source": [
    "inp = Input(shape=(2048,))\n",
    "x = Dense(2048, name='dense_1')(inp)\n",
    "x = BatchNormalization()(x)\n",
    "x = LeakyReLU(alpha=0.1, name='lrelu_1')(x)\n",
    "x = Dense(2048, name='dense_2')(x)\n",
    "x = BatchNormalization()(x)\n",
    "x = LeakyReLU(alpha=0.1, name='lrelu_2')(x)\n",
    "x = Dense(1024, name='dense_3')(x)\n",
    "x = BatchNormalization()(x)\n",
    "x = LeakyReLU(alpha=0.1, name='lrelu_3')(x)\n",
    "x = Dense(1024, name='dense_4')(x)\n",
    "\n",
    "model = Model(inputs=inp, outputs=x)\n",
    "\n",
    "optimizer = keras.optimizers.RMSprop(lr=0.001)\n",
    "\n",
    "model.compile(loss='cosine_proximity', optimizer=optimizer, metrics=['accuracy'])\n",
    "\n",
    "# Prepare data for training\n",
    "X_train, Y_train = [], []\n",
    "for triplet in triplets:\n",
    "    ### NORMALIZE X1, X2 and Y here!!!\n",
    "#     X1 = triplet.X1 / np.linalg.norm(triplet.X1, axis=0, keepdims=True)\n",
    "#     X2 = triplet.X2 / np.linalg.norm(triplet.X2, axis=0, keepdims=True)\n",
    "#     Y  = triplet.Y  / np.linalg.norm(triplet.Y,  axis=0, keepdims=True)\n",
    "    \n",
    "    X_train.append(np.hstack((triplet.X1, triplet.X2)))\n",
    "    Y_train.append(triplet.Y-triplet.X1)\n",
    "\n",
    "\n",
    "model.fit(np.array(X_train), np.array(Y_train), epochs=50, batch_size=32, shuffle=True, verbose=1)\n",
    "time.sleep(0.1)\n",
    "model.save('e100_rms_cosine_100k.h5')\n",
    "\n"
   ]
  },
  {
   "cell_type": "code",
   "execution_count": 27,
   "metadata": {
    "collapsed": false
   },
   "outputs": [
    {
     "name": "stdout",
     "output_type": "stream",
     "text": [
      "80 0.59 0.595\n",
      "81 0.635 0.675\n",
      "82 0.635 0.68\n",
      "83 0.645 0.765\n",
      "84 0.585 0.275\n",
      "85 0.625 0.625\n",
      "86 0.515 0.575\n",
      "87 0.61 0.62\n",
      "88 0.585 0.67\n",
      "89 0.565 0.65\n",
      "90 0.72 0.655\n",
      "91 0.65 0.61\n",
      "92 0.715 0.805\n",
      "93 0.63 0.615\n",
      "94 0.545 0.63\n",
      "95 0.645 0.715\n",
      "96 0.69 0.59\n",
      "97 0.525 0.575\n",
      "98 0.545 0.615\n",
      "99 0.66 0.635\n"
     ]
    },
    {
     "data": {
      "image/png": "[encoded data removed]",
      "text/plain": [
       "<matplotlib.figure.Figure at 0x168ee16d0>"
      ]
     },
     "metadata": {},
     "output_type": "display_data"
    }
   ],
   "source": [
    "# Compare our model with the baseline\n",
    "model = load_model('e100_rms_cosine_100k.h5')\n",
    "acc, our_acc, true_acc = [], [], []\n",
    "base_classes = np.random.permutation(range(40,60))[:10]\n",
    "pos_class = random.choice(base_classes)\n",
    "X1 = compute_X1(pos_class, base_classes, feature_vectors)\n",
    "\n",
    "neg_classes = np.delete(base_classes, np.argwhere(base_classes==pos_class))\n",
    "pos_features_test, neg_features_test = prepare_features(pos_class, neg_classes, feature_vectors, False) \n",
    "acc.append(compute_accuracy(X1, pos_features_test, neg_features_test))\n",
    "our_acc.append(acc[0])\n",
    "\n",
    "our_X1 = X1\n",
    "# neg_classes = []\n",
    "for new_class in range(80, 100):\n",
    "    neg_classes = [new_class]\n",
    "#     neg_classes.append(new_class)\n",
    "    pos_features_test, neg_features_test = prepare_features(pos_class, neg_classes, feature_vectors, is_train=False, equal_features=True)\n",
    "    acc1 = compute_accuracy(X1, pos_features_test, neg_features_test)\n",
    "    acc.append(acc1)\n",
    "        \n",
    "    # Test out our incremental hypothesis\n",
    "#     our_X1 = X1 / np.linalg.norm(X1, axis=0, keepdims=True)\n",
    "    X2 = compute_X2(new_class, base_classes, feature_vectors)\n",
    "#     X2 = X2 / np.linalg.norm(X2, axis=0, keepdims=True)\n",
    "    X = np.hstack((our_X1, X2))\n",
    "    X = np.reshape(X, (1, 2048))\n",
    "    Y_hat = model.predict(X)\n",
    "    Y = our_X1 + Y_hat.reshape((1024))\n",
    "#     our_X1 = Y.reshape((1024))\n",
    "#     Y = Y * np.linalg.norm(X1, axis=0, keepdims=True)\n",
    "    acc2 = compute_accuracy(Y, pos_features_test, neg_features_test)\n",
    "    our_acc.append(acc2)\n",
    "    \n",
    "    \n",
    "    print new_class, acc1, acc2\n",
    "    \n",
    "fig = plt.figure()\n",
    "ax = plt.subplot(111)\n",
    "ax.plot(range(0, len(acc)), acc, 'b', label='No SVM update')\n",
    "ax.plot(range(0, len(our_acc)), our_acc, 'g', label='Incremental SVM update')\n",
    "plt.ylabel('Base class accuracy (Randomly chosen base class)')\n",
    "plt.xlabel('ID of new class added')\n",
    "ax.legend(loc=3)\n",
    "plt.title('Comparision of accuracies when adding a new class (10 + 1)')\n",
    "plt.show()"
   ]
  },
  {
   "cell_type": "code",
   "execution_count": null,
   "metadata": {
    "collapsed": true
   },
   "outputs": [],
   "source": []
  }
 ],
 "metadata": {
  "kernelspec": {
   "display_name": "Python 2",
   "language": "python",
   "name": "python2"
  },
  "language_info": {
   "codemirror_mode": {
    "name": "ipython",
    "version": 2
   },
   "file_extension": ".py",
   "mimetype": "text/x-python",
   "name": "python",
   "nbconvert_exporter": "python",
   "pygments_lexer": "ipython2",
   "version": "2.7.12"
  }
 },
 "nbformat": 4,
 "nbformat_minor": 0
}
